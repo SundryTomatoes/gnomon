{
 "cells": [
  {
   "cell_type": "markdown",
   "metadata": {},
   "source": [
    "# Imports and prepare data for visualization"
   ]
  },
  {
   "cell_type": "code",
   "execution_count": 1,
   "metadata": {},
   "outputs": [],
   "source": [
    "import pandas as pd\n",
    "import numpy as np\n",
    "import matplotlib.pyplot as plt\n",
    "import matplotlib\n",
    "import skimage\n",
    "from skimage import io\n",
    "from PIL import Image\n",
    "\n",
    "import copy\n",
    "import os\n",
    "import glob\n",
    "\n",
    "from gnomon import husk"
   ]
  },
  {
   "cell_type": "code",
   "execution_count": 2,
   "metadata": {},
   "outputs": [],
   "source": [
    "\n",
    "## full_data includes the dataset with photo information, datetime, location, etc.\n",
    "data = pd.read_csv(os.path.join(\"data\", \"gnomon_data.csv\"))\n",
    "data[\"Datetime\"] = pd.to_datetime(data[\"Datetime\"])\n"
   ]
  },
  {
   "cell_type": "code",
   "execution_count": 5,
   "metadata": {},
   "outputs": [
    {
     "name": "stdout",
     "output_type": "stream",
     "text": [
      "Picture resolutions are not identical. Resizing images...\n"
     ]
    },
    {
     "name": "stderr",
     "output_type": "stream",
     "text": [
      "/opt/anaconda/lib/python3.6/site-packages/skimage/transform/_warps.py:105: UserWarning: The default mode, 'constant', will be changed to 'reflect' in skimage 0.15.\n",
      "  warn(\"The default mode, 'constant', will be changed to 'reflect' in \"\n",
      "/opt/anaconda/lib/python3.6/site-packages/skimage/transform/_warps.py:110: UserWarning: Anti-aliasing will be enabled by default in skimage 0.15 to avoid aliasing artifacts when down-sampling images.\n",
      "  warn(\"Anti-aliasing will be enabled by default in skimage 0.15 to \"\n"
     ]
    },
    {
     "name": "stdout",
     "output_type": "stream",
     "text": [
      "Images resized.\n"
     ]
    }
   ],
   "source": [
    "# Create a husk object and read in all images from the week\n",
    "\n",
    "husky = husk()\n",
    "\n",
    "for i in data.index.values:\n",
    "    husky.add_image(filename = data.loc[i, 'Image filename'])\n",
    "\n",
    "husky.rotate_all('r')\n",
    "\n",
    "husky.blend()\n",
    "\n",
    "# %matplotlib inline\n",
    "# husky.show_comp()"
   ]
  },
  {
   "cell_type": "code",
   "execution_count": 6,
   "metadata": {},
   "outputs": [],
   "source": [
    "\n",
    "def av_time(df, cluster_n):\n",
    "    \"\"\"\n",
    "    Finds the average time of a cluster and returns it as a string\n",
    "    \"\"\"\n",
    "    # Create a working dataframe with only the cluster you're looking at\n",
    "    ## Cluster 0 means all clusters\n",
    "    if cluster_n == 0: \n",
    "        workingdf = copy.copy(df)\n",
    "    else:\n",
    "        workingdf = df[df['Cluster'] == cluster_n]\n",
    "    \n",
    "    # Create new columns for Hour and Minute features from the datetime\n",
    "    workingdf['Hour'] = workingdf['Datetime'].apply(lambda dt: dt.hour)\n",
    "    workingdf['Minute'] = workingdf['Datetime'].apply(lambda dt: dt.minute)\n",
    "    workingdf['time_in_min'] = (workingdf['Hour']) * 60 + workingdf['Minute']\n",
    "    \n",
    "    av = workingdf['time_in_min'].mean()\n",
    "        \n",
    "    return \"%d:%d\" % (av//60, av%60)\n"
   ]
  },
  {
   "cell_type": "code",
   "execution_count": 7,
   "metadata": {},
   "outputs": [
    {
     "name": "stderr",
     "output_type": "stream",
     "text": [
      "/opt/anaconda/lib/python3.6/site-packages/ipykernel_launcher.py:14: SettingWithCopyWarning: \n",
      "A value is trying to be set on a copy of a slice from a DataFrame.\n",
      "Try using .loc[row_indexer,col_indexer] = value instead\n",
      "\n",
      "See the caveats in the documentation: http://pandas.pydata.org/pandas-docs/stable/indexing.html#indexing-view-versus-copy\n",
      "  \n",
      "/opt/anaconda/lib/python3.6/site-packages/ipykernel_launcher.py:15: SettingWithCopyWarning: \n",
      "A value is trying to be set on a copy of a slice from a DataFrame.\n",
      "Try using .loc[row_indexer,col_indexer] = value instead\n",
      "\n",
      "See the caveats in the documentation: http://pandas.pydata.org/pandas-docs/stable/indexing.html#indexing-view-versus-copy\n",
      "  from ipykernel import kernelapp as app\n",
      "/opt/anaconda/lib/python3.6/site-packages/ipykernel_launcher.py:16: SettingWithCopyWarning: \n",
      "A value is trying to be set on a copy of a slice from a DataFrame.\n",
      "Try using .loc[row_indexer,col_indexer] = value instead\n",
      "\n",
      "See the caveats in the documentation: http://pandas.pydata.org/pandas-docs/stable/indexing.html#indexing-view-versus-copy\n",
      "  app.launch_new_instance()\n"
     ]
    },
    {
     "data": {
      "text/plain": [
       "'16:26'"
      ]
     },
     "execution_count": 7,
     "metadata": {},
     "output_type": "execute_result"
    }
   ],
   "source": [
    "av_time(data, 5)"
   ]
  },
  {
   "cell_type": "markdown",
   "metadata": {},
   "source": [
    "# Histograms\n"
   ]
  },
  {
   "cell_type": "code",
   "execution_count": 8,
   "metadata": {},
   "outputs": [],
   "source": [
    "# A function to prepare the data for creating a stacked bar chart of pixel\n",
    "# lightness or darkness by time of day\n",
    "\n",
    "def make_xy(df, cluster_n, imgs, nbins=20):\n",
    "    \"\"\"\n",
    "    Takes a dataframe (with datetime stamp of each photo), a cluster number,\n",
    "    a set of images, and the number of bins to create and returns x positions \n",
    "    and y lengths for stacked bar charts.\n",
    "    \"\"\"\n",
    "    # Create a working dataframe with only the cluster you're looking at\n",
    "    ## Cluster 0 means all clusters\n",
    "    if cluster_n == 0: \n",
    "        workingdf = copy.copy(df)\n",
    "    else:\n",
    "        workingdf = df[df['Cluster'] == cluster_n]\n",
    "    \n",
    "    # Create new columns for Hour and Minute features from the datetime\n",
    "    workingdf['Hour'] = workingdf['Datetime'].apply(lambda dt: dt.hour)\n",
    "    workingdf['Minute'] = workingdf['Datetime'].apply(lambda dt: dt.minute)\n",
    "    workingdf['min_past_7'] = (workingdf['Hour'] - 7) * 60 + workingdf['Minute']\n",
    "    \n",
    "    # Sort the dataframe by (1) minute, then by (2) hour\n",
    "    workingdf = workingdf.sort_values(by=\"min_past_7\")\n",
    "    \n",
    "    # Find the first bar in the set (nearest multiple of 12 less than first #)\n",
    "    bar_1 = workingdf.iloc[0]['min_past_7']\n",
    "    while bar_1 % 12:\n",
    "        bar_1 -= 1\n",
    "        \n",
    "    # Find the last bar in the set (nearest multiple of 12 greater than first #)\n",
    "    bar_n = workingdf.iloc[-1]['min_past_7']\n",
    "    while bar_n % 12:\n",
    "        bar_n += 1\n",
    "    \n",
    "    # Find the number of bars by the distance between the first and last photos\n",
    "    # One bar will represent 12 minutes, so there are 5 bars per hour\n",
    "    n_bars = (bar_n - bar_1) / 12\n",
    "    \n",
    "    # Initialize two arrays of zeros of the proportions n_bars x n_bins\n",
    "    xs = np.zeros((nbins, int(n_bars)), dtype=int)\n",
    "    ys = np.zeros((nbins, int(n_bars)), dtype=int)\n",
    "    # Initialize one array to be used for positioning of bar on the dial\n",
    "    bar_begs = np.zeros(int(n_bars), dtype=int)\n",
    "    \n",
    "    next_bar = copy.copy(bar_1)\n",
    "    i = 0\n",
    "    \n",
    "    for n in range(int(n_bars)):\n",
    "        next_bar += 12\n",
    "        bar_begs[n] = next_bar # Store the end position of the bar\n",
    "        \n",
    "        # Find all photos that belong in the current bar and add their bin values\n",
    "        while ((i < len(workingdf.index.values)) and (workingdf.iloc[i]['min_past_7'] < next_bar)):\n",
    "            img_gray = skimage.color.rgb2gray(imgs[workingdf.index.values[i]])\n",
    "            y, x = skimage.exposure.histogram(img_gray.flatten(), nbins=nbins)\n",
    "        \n",
    "            for j in range(nbins):\n",
    "                xs[j][n] += x[j]\n",
    "                ys[j][n] += y[j]\n",
    "                \n",
    "            i+=1\n",
    "        \n",
    "    return xs, ys, bar_begs\n"
   ]
  },
  {
   "cell_type": "markdown",
   "metadata": {},
   "source": [
    "# Make the dial charts"
   ]
  },
  {
   "cell_type": "code",
   "execution_count": 9,
   "metadata": {},
   "outputs": [],
   "source": [
    "nbins = 10\n",
    "cluster = 0\n",
    "\n",
    "x, y, bar_begs = make_xy(data, cluster, husky.imgs, nbins=nbins)"
   ]
  },
  {
   "cell_type": "code",
   "execution_count": 15,
   "metadata": {},
   "outputs": [
    {
     "name": "stderr",
     "output_type": "stream",
     "text": [
      "/opt/anaconda/lib/python3.6/site-packages/ipykernel_launcher.py:18: SettingWithCopyWarning: \n",
      "A value is trying to be set on a copy of a slice from a DataFrame.\n",
      "Try using .loc[row_indexer,col_indexer] = value instead\n",
      "\n",
      "See the caveats in the documentation: http://pandas.pydata.org/pandas-docs/stable/indexing.html#indexing-view-versus-copy\n",
      "/opt/anaconda/lib/python3.6/site-packages/ipykernel_launcher.py:19: SettingWithCopyWarning: \n",
      "A value is trying to be set on a copy of a slice from a DataFrame.\n",
      "Try using .loc[row_indexer,col_indexer] = value instead\n",
      "\n",
      "See the caveats in the documentation: http://pandas.pydata.org/pandas-docs/stable/indexing.html#indexing-view-versus-copy\n",
      "/opt/anaconda/lib/python3.6/site-packages/ipykernel_launcher.py:20: SettingWithCopyWarning: \n",
      "A value is trying to be set on a copy of a slice from a DataFrame.\n",
      "Try using .loc[row_indexer,col_indexer] = value instead\n",
      "\n",
      "See the caveats in the documentation: http://pandas.pydata.org/pandas-docs/stable/indexing.html#indexing-view-versus-copy\n"
     ]
    },
    {
     "data": {
      "image/png": "[encoded data removed]",
      "text/plain": [
       "<Figure size 432x288 with 1 Axes>"
      ]
     },
     "metadata": {},
     "output_type": "display_data"
    }
   ],
   "source": [
    "\n",
    "# def dialChart(cluster, nbins):\n",
    "\n",
    "nbins = 10\n",
    "cluster = 5\n",
    "    \n",
    "x, y, bar_begs = make_xy(data, cluster, husky.imgs, nbins=nbins)\n",
    "\n",
    "# One hour on the dial is represented by Pi / 10 degrees\n",
    "\n",
    "N = len(data[data['Cluster'] == cluster])\n",
    "bottom = 8_000_000\n",
    "width = np.pi / 50 # Each bar represents one fifth of an hour\n",
    "radial_bar_begs = (bar_begs // 12) * (np.pi / 50) - (width / 2) # Position of bars on radial dial\n",
    "\n",
    "# Set color map for the image\n",
    "cmap = matplotlib.cm.get_cmap('Greys_r')\n",
    "#     cmap = matplotlib.cm.get_cmap('viridis')\n",
    "col_vals = np.linspace(0.0, 1.0, num=len(x), endpoint=True) # Determines the hue for each level of the stacked bar\n",
    "\n",
    "ax = plt.subplot(111, projection='polar')\n",
    "# rad_beg = np.linspace((np.pi*3/11), 13*np.pi / 11, N, endpoint=True)\n",
    "\n",
    "bottoms = np.zeros(len(x[0])) + bottom\n",
    "\n",
    "for i in range(len(x)):\n",
    "    ax.bar(radial_bar_begs, y[i], width=0.05, bottom=bottoms,\n",
    "           color=cmap(col_vals[i]), edgecolor='black', linewidth=0.000, \n",
    "           alpha=1.0)\n",
    "    bottoms += y[i]\n",
    "    \n",
    "# Add a border around the entire bar\n",
    "borderBar = np.zeros(shape=y.shape[1])\n",
    "for i in range(y.shape[0]):\n",
    "    borderBar += y[i]\n",
    "ax.bar(radial_bar_begs, borderBar, width=0.05, bottom=bottom, fill=False, edgecolor='black', linewidth=0.1)\n",
    "\n",
    "linealpha = .9\n",
    "linewidth = 0.2\n",
    "# ax.axhline(1, alpha=linealpha, linewidth=linewidth, color='black')\n",
    "plt.vlines(0, ymin=0, ymax=bottom, alpha=1, linewidth=linewidth+.09, color='black')\n",
    "plt.vlines(np.pi/2, ymin=0, ymax=bottom, alpha=1, linewidth=linewidth+.15, color='black')\n",
    "plt.vlines(np.pi, ymin=0, ymax=bottom, alpha=1, linewidth=linewidth+.15, color='black')\n",
    "\n",
    "hours = 0\n",
    "while hours <= (16*np.pi / 11):\n",
    "    plt.vlines(hours, ymin=0, ymax=bottom, alpha=linealpha-.2, linewidth=linewidth, color='black')\n",
    "    hours += np.pi/10\n",
    "\n",
    "\n",
    "ax.set_theta_zero_location('W')\n",
    "ax.set_theta_direction(-1)\n",
    "plt.xticks([])\n",
    "plt.yticks([])\n",
    "ax.spines['polar'].set_visible(False)\n",
    "# plt.show()\n",
    "\n",
    "# Save the graphic\n",
    "path = os.path.join(\"dial_graphs\", \"dial_graph_%dbins_%d.png\" % (nbins, cluster))\n",
    "plt.savefig(path, dpi=1200, format='png', transparent=True)\n",
    "    "
   ]
  }
 ],
 "metadata": {
  "kernelspec": {
   "display_name": "Python 3",
   "language": "python",
   "name": "python3"
  },
  "language_info": {
   "codemirror_mode": {
    "name": "ipython",
    "version": 3
   },
   "file_extension": ".py",
   "mimetype": "text/x-python",
   "name": "python",
   "nbconvert_exporter": "python",
   "pygments_lexer": "ipython3",
   "version": "3.6.8"
  }
 },
 "nbformat": 4,
 "nbformat_minor": 2
}
