{
 "cells": [
  {
   "cell_type": "markdown",
   "metadata": {},
   "source": [
    "# Import and prepare data for stacked bar chart"
   ]
  },
  {
   "cell_type": "code",
   "execution_count": 26,
   "metadata": {},
   "outputs": [],
   "source": [
    "import pandas as pd\n",
    "import numpy as np\n",
    "import matplotlib.pyplot as plt\n",
    "import matplotlib\n",
    "import seaborn as sns\n",
    "\n",
    "import copy\n",
    "import os\n",
    "import glob\n"
   ]
  },
  {
   "cell_type": "code",
   "execution_count": 3,
   "metadata": {},
   "outputs": [],
   "source": [
    "\n",
    "## full_data includes the dataset with photo information, datetime, location, etc.\n",
    "data = pd.read_csv(os.path.join(\"data\", \"gnomon_data.csv\"))\n",
    "data[\"Datetime\"] = pd.to_datetime(data[\"Datetime\"])\n"
   ]
  },
  {
   "cell_type": "code",
   "execution_count": 4,
   "metadata": {},
   "outputs": [],
   "source": [
    "# Change the zeros to nan \n",
    "data = changeZero(data)\n",
    "\n",
    "# Make a list of clusters 0 to 5. The index of this list represents the cluster #\n",
    "# Cluster 0 represents the set of all clusters\n",
    "clust = [data] + [getcluster(data, i) for i in range(1, 6)]"
   ]
  },
  {
   "cell_type": "code",
   "execution_count": 4,
   "metadata": {},
   "outputs": [],
   "source": [
    "# Set the colors of the nodes, which represent the locations of the photographs\n",
    "\n",
    "locations = data['Location'].unique()\n",
    "n_locations = data['Location'].unique().shape[0]\n",
    "cmap = matplotlib.cm.get_cmap('viridis')\n",
    "\n",
    "loc_colors  = dict()\n",
    "\n",
    "for i in range(n_locations):\n",
    "    loc_colors[locations[i]] = cmap(i / n_locations)\n",
    "    \n",
    "node_colors = [loc_colors[i] for i in data['Location'].values]"
   ]
  },
  {
   "cell_type": "code",
   "execution_count": 5,
   "metadata": {},
   "outputs": [
    {
     "data": {
      "text/plain": [
       "{'outside': (0.267004, 0.004874, 0.329415, 1.0),\n",
       " 'Founders Memorial Library': (0.275191, 0.194905, 0.496005, 1.0),\n",
       " 'CSCI Building': (0.212395, 0.359683, 0.55171, 1.0),\n",
       " 'Faraday Hall': (0.153364, 0.497, 0.557724, 1.0),\n",
       " 'Recreation and Wellness Center': (0.122312, 0.633153, 0.530398, 1.0),\n",
       " 'Home': (0.288921, 0.758394, 0.428426, 1.0),\n",
       " 'Chick Evans Field House': (0.626579, 0.854645, 0.223353, 1.0)}"
      ]
     },
     "execution_count": 5,
     "metadata": {},
     "output_type": "execute_result"
    }
   ],
   "source": [
    "loc_colors"
   ]
  },
  {
   "cell_type": "markdown",
   "metadata": {},
   "source": [
    "# Plot the data\n",
    "\n",
    "- Cluster is a variable that can be changed to represent the cluster you want to represent\n",
    "- Cluster 0 shows all clusters"
   ]
  },
  {
   "cell_type": "code",
   "execution_count": 49,
   "metadata": {},
   "outputs": [
    {
     "data": {
      "image/png": "[encoded data removed]",
      "text/plain": [
       "<Figure size 432x288 with 1 Axes>"
      ]
     },
     "metadata": {},
     "output_type": "display_data"
    }
   ],
   "source": [
    "cluster = 1\n",
    "N = len(data[data[\"Cluster\"] == cluster].values)\n",
    "\n",
    "sns.set_style(\"whitegrid\")\n",
    "\n",
    "sns.despine(left=True, right=True)\n",
    "\n",
    "sns.countplot(y=\"Location\", data=data[data[\"Cluster\"] == cluster], palette=loc_colors)\n",
    "\n",
    "plt.show()"
   ]
  },
  {
   "cell_type": "code",
   "execution_count": 90,
   "metadata": {},
   "outputs": [
    {
     "data": {
      "text/plain": [
       "<BarContainer object of 4 artists>"
      ]
     },
     "execution_count": 90,
     "metadata": {},
     "output_type": "execute_result"
    },
    {
     "data": {
      "image/png": "[encoded data removed]",
      "text/plain": [
       "<Figure size 432x288 with 1 Axes>"
      ]
     },
     "metadata": {},
     "output_type": "display_data"
    }
   ],
   "source": [
    "counts = data[data[\"Cluster\"] == cluster][\"Location\"].value_counts()\n",
    "\n",
    "# x = np.array(shape=len(counts.index))\n",
    "# y = np.ar\n",
    "x = copy.copy(counts.values)\n",
    "tops = copy.copy(x)\n",
    "\n",
    "for i in range(1, len(tops)):\n",
    "    tops[i] += tops[i-1]\n",
    "    \n",
    "bottoms = copy.copy(tops)\n",
    "for i in range(bottoms.shape[0]-1, 0, -1):\n",
    "    bottoms[i] = bottoms[i-1]\n",
    "bottoms[0] = 0\n",
    "\n",
    "    \n",
    "ax = plt.subplot(111)\n",
    "\n",
    "ax.bar([0 for i in range(len(x))], x, bottom=bottoms, \n",
    "       color=[loc_colors[loc] for loc in counts.index], \n",
    "       width=0.5)"
   ]
  },
  {
   "cell_type": "code",
   "execution_count": 88,
   "metadata": {},
   "outputs": [
    {
     "data": {
      "text/plain": [
       "array([ 0, 12,  6,  5], dtype=int64)"
      ]
     },
     "execution_count": 88,
     "metadata": {},
     "output_type": "execute_result"
    }
   ],
   "source": [
    "bottoms"
   ]
  }
 ],
 "metadata": {
  "kernelspec": {
   "display_name": "Python 3",
   "language": "python",
   "name": "python3"
  },
  "language_info": {
   "codemirror_mode": {
    "name": "ipython",
    "version": 3
   },
   "file_extension": ".py",
   "mimetype": "text/x-python",
   "name": "python",
   "nbconvert_exporter": "python",
   "pygments_lexer": "ipython3",
   "version": "3.7.0"
  }
 },
 "nbformat": 4,
 "nbformat_minor": 2
}
