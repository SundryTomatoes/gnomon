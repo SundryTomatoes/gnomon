{
 "cells": [
  {
   "cell_type": "markdown",
   "metadata": {},
   "source": [
    "# Import and prepare data for stacked bar chart"
   ]
  },
  {
   "cell_type": "code",
   "execution_count": 1,
   "metadata": {},
   "outputs": [],
   "source": [
    "import pandas as pd\n",
    "import numpy as np\n",
    "import matplotlib.pyplot as plt\n",
    "import matplotlib\n",
    "import seaborn as sns\n",
    "\n",
    "import copy\n",
    "import os\n",
    "import glob\n"
   ]
  },
  {
   "cell_type": "code",
   "execution_count": 2,
   "metadata": {},
   "outputs": [],
   "source": [
    "\n",
    "## full_data includes the dataset with photo information, datetime, location, etc.\n",
    "data = pd.read_csv(os.path.join(\"data\", \"gnomon_data.csv\"))\n",
    "data[\"Datetime\"] = pd.to_datetime(data[\"Datetime\"])\n"
   ]
  },
  {
   "cell_type": "code",
   "execution_count": 3,
   "metadata": {},
   "outputs": [],
   "source": [
    "# Set the colors of the nodes, which represent the locations of the photographs\n",
    "\n",
    "locations = data['Location'].unique()\n",
    "n_locations = data['Location'].unique().shape[0]\n",
    "cmap = matplotlib.cm.get_cmap('viridis')\n",
    "\n",
    "loc_colors  = dict()\n",
    "\n",
    "for i in range(n_locations):\n",
    "    loc_colors[locations[i]] = cmap(i / n_locations)\n",
    "    \n",
    "node_colors = [loc_colors[i] for i in data['Location'].values]"
   ]
  },
  {
   "cell_type": "markdown",
   "metadata": {},
   "source": [
    "# Plot the data\n",
    "\n",
    "- Cluster is a variable that can be changed to represent the cluster you want to represent\n",
    "- Cluster 0 shows all clusters"
   ]
  },
  {
   "cell_type": "code",
   "execution_count": 4,
   "metadata": {},
   "outputs": [
    {
     "data": {
      "image/png": "[encoded data removed]",
      "text/plain": [
       "<Figure size 432x288 with 1 Axes>"
      ]
     },
     "metadata": {},
     "output_type": "display_data"
    }
   ],
   "source": [
    "cluster = 1\n",
    "N = len(data[data[\"Cluster\"] == cluster].values)\n",
    "\n",
    "sns.set_style(\"whitegrid\")\n",
    "\n",
    "sns.despine(left=True, right=True)\n",
    "\n",
    "sns.countplot(y=\"Location\", data=data[data[\"Cluster\"] == cluster], palette=loc_colors)\n",
    "\n",
    "plt.show()"
   ]
  },
  {
   "cell_type": "code",
   "execution_count": 19,
   "metadata": {},
   "outputs": [
    {
     "data": {
      "image/png": "[encoded data removed]",
      "text/plain": [
       "<Figure size 432x288 with 1 Axes>"
      ]
     },
     "metadata": {},
     "output_type": "display_data"
    }
   ],
   "source": [
    "\n",
    "cluster = 5\n",
    "N = len(data[data[\"Cluster\"] == cluster].values)\n",
    "\n",
    "if cluster != 0:\n",
    "    counts = data[data[\"Cluster\"] == cluster][\"Location\"].value_counts()\n",
    "else:\n",
    "    counts = data[\"Location\"].value_counts()\n",
    "\n",
    "x = copy.copy(counts.values)\n",
    "tops = copy.copy(x)\n",
    "\n",
    "for i in range(1, len(tops)):\n",
    "    tops[i] += tops[i-1]\n",
    "\n",
    "bottoms = copy.copy(tops)\n",
    "for i in range(bottoms.shape[0]-1, 0, -1):\n",
    "    bottoms[i] = bottoms[i-1]\n",
    "bottoms[0] = 0\n",
    "\n",
    "\n",
    "ax = plt.subplot(111)\n",
    "\n",
    "for i in [-3, -2, -1, 1, 2, 3]:\n",
    "    ax.barh([i], 0, 1.0, align='center', color='white', ecolor='black', label=None)\n",
    "\n",
    "\n",
    "ax.barh([0 for i in range(len(x))], x, left=bottoms, \n",
    "       color=[loc_colors[loc] for loc in counts.index], \n",
    "        height=0.25, edgecolor=['black', 'black'], linewidth=0.6)\n",
    "\n",
    "plt.axis('off');\n",
    "\n",
    "path = os.path.join('stacked_bars', 'stacked_bar%d.png' % (cluster))\n",
    "plt.savefig(path, dpi=750, bbox_inches='tight', format='png', transparent=True)\n",
    "# ax.clear()"
   ]
  },
  {
   "cell_type": "code",
   "execution_count": 13,
   "metadata": {},
   "outputs": [
    {
     "name": "stderr",
     "output_type": "stream",
     "text": [
      "/opt/anaconda/lib/python3.6/site-packages/matplotlib/figure.py:98: MatplotlibDeprecationWarning: \n",
      "Adding an axes using the same arguments as a previous axes currently reuses the earlier instance.  In a future version, a new instance will always be created and returned.  Meanwhile, this warning can be suppressed, and the future behavior ensured, by passing a unique label to each axes instance.\n",
      "  \"Adding an axes using the same arguments as a previous axes \"\n",
      "/opt/anaconda/lib/python3.6/site-packages/matplotlib/figure.py:98: MatplotlibDeprecationWarning: \n",
      "Adding an axes using the same arguments as a previous axes currently reuses the earlier instance.  In a future version, a new instance will always be created and returned.  Meanwhile, this warning can be suppressed, and the future behavior ensured, by passing a unique label to each axes instance.\n",
      "  \"Adding an axes using the same arguments as a previous axes \"\n",
      "/opt/anaconda/lib/python3.6/site-packages/matplotlib/figure.py:98: MatplotlibDeprecationWarning: \n",
      "Adding an axes using the same arguments as a previous axes currently reuses the earlier instance.  In a future version, a new instance will always be created and returned.  Meanwhile, this warning can be suppressed, and the future behavior ensured, by passing a unique label to each axes instance.\n",
      "  \"Adding an axes using the same arguments as a previous axes \"\n",
      "/opt/anaconda/lib/python3.6/site-packages/matplotlib/figure.py:98: MatplotlibDeprecationWarning: \n",
      "Adding an axes using the same arguments as a previous axes currently reuses the earlier instance.  In a future version, a new instance will always be created and returned.  Meanwhile, this warning can be suppressed, and the future behavior ensured, by passing a unique label to each axes instance.\n",
      "  \"Adding an axes using the same arguments as a previous axes \"\n",
      "/opt/anaconda/lib/python3.6/site-packages/matplotlib/figure.py:98: MatplotlibDeprecationWarning: \n",
      "Adding an axes using the same arguments as a previous axes currently reuses the earlier instance.  In a future version, a new instance will always be created and returned.  Meanwhile, this warning can be suppressed, and the future behavior ensured, by passing a unique label to each axes instance.\n",
      "  \"Adding an axes using the same arguments as a previous axes \"\n"
     ]
    },
    {
     "data": {
      "image/png": "[encoded data removed]",
      "text/plain": [
       "<Figure size 432x288 with 1 Axes>"
      ]
     },
     "metadata": {},
     "output_type": "display_data"
    }
   ],
   "source": [
    "for i in range(6):\n",
    "    plotStack(i)"
   ]
  }
 ],
 "metadata": {
  "kernelspec": {
   "display_name": "Python 3",
   "language": "python",
   "name": "python3"
  },
  "language_info": {
   "codemirror_mode": {
    "name": "ipython",
    "version": 3
   },
   "file_extension": ".py",
   "mimetype": "text/x-python",
   "name": "python",
   "nbconvert_exporter": "python",
   "pygments_lexer": "ipython3",
   "version": "3.6.8"
  }
 },
 "nbformat": 4,
 "nbformat_minor": 2
}
